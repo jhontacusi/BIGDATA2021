{
  "nbformat": 4,
  "nbformat_minor": 0,
  "metadata": {
    "colab": {
      "name": "Actividad03.ipynb",
      "provenance": [],
      "collapsed_sections": []
    },
    "kernelspec": {
      "display_name": "Python 3",
      "name": "python3"
    },
    "language_info": {
      "name": "python"
    }
  },
  "cells": [
    {
      "cell_type": "markdown",
      "metadata": {
        "id": "wI6kcaNiFDJX"
      },
      "source": [
        "#Universidad Nacional de San Antonio Abad del Cusco\n",
        "Estudiante: Jhon Edwin Tacusi Larota\n",
        "\n",
        "Codigo:     150408\n",
        "\n",
        "Implementacion de algoritmo apriori\n"
      ]
    },
    {
      "cell_type": "markdown",
      "metadata": {
        "id": "5jy-1zLEF7I-"
      },
      "source": [
        "#ALGORITMO APRIORI\n",
        "\n",
        "El Algoritmo Apriori trata de extraer reglas para cada posible combinación de artículos.\n",
        "\n",
        "Para un conjunto de datos más grande, todos estos cálculos puede hacer que el proceso sea extremadamente lento. Para acelerar el proceso, debemos realizar los siguientes pasos:\n",
        "\n",
        "\n",
        "*   Paso 1. Establecer un valor mínimo para el soporte y la confianza. Esto significa que solo nos interesa encontrar reglas para los elementos que tienen cierta existencia por defecto, por ejemplo, el apoyo, y tienen un valor mínimo de co-ocurrencia con otros elementos, por ejemplo, la confianza.\n",
        "*   Paso 2. Extraer todos los subconjuntos que tengan un valor de soporte superior a un umbral mínimo.\n",
        "*   Paso 3. Seleccionar todas las reglas de los subconjuntos con un valor de confianza superior al umbral mínimo.\n",
        "\n",
        "*   Paso 4. Ordenar las reglas por orden descendente de lift."
      ]
    },
    {
      "cell_type": "markdown",
      "metadata": {
        "id": "qI5LZcz-_9dZ"
      },
      "source": [
        "#USO DE LIBRERIAS"
      ]
    },
    {
      "cell_type": "code",
      "metadata": {
        "id": "bX79GmGMIhbj"
      },
      "source": [
        "import pandas as pd\n",
        "import numpy as np\n",
        "import itertools as it"
      ],
      "execution_count": 1,
      "outputs": []
    },
    {
      "cell_type": "markdown",
      "metadata": {
        "id": "GDo-6G-V1Djm"
      },
      "source": [
        "#Modulo para obtener la frecuencia del data set\n"
      ]
    },
    {
      "cell_type": "markdown",
      "metadata": {
        "id": "pXBf5dcoRxnN"
      },
      "source": [
        "#get_frequent_itemsets\n",
        "\n",
        "Esta función de tabla canaliza filas de tipo DM_ITEMSETS. Para obtener información sobre los tipos de datos de minería de datos y la salida canalizada de las funciones de tabla,"
      ]
    },
    {
      "cell_type": "markdown",
      "metadata": {
        "id": "U2qOMd6WMt0K"
      },
      "source": [
        "playlist:el dataset de las transacciones  lista de listas.\n",
        "\n",
        "min_support:soporte minimo int\n",
        "\n",
        "total_Itemsets:La funcion devuelve lista de listas.\n"
      ]
    },
    {
      "cell_type": "code",
      "metadata": {
        "id": "wo5ZTKKz1Gh1"
      },
      "source": [
        "def get_frequent_itemsets(playlists, min_support=0.2):\n",
        "    #CREAMOS 2 ARREGLOS\n",
        "    total_Itemsets = []\n",
        "    total_valores = []\n",
        "    num_iter=1\n",
        "    #ORDENAMOS EL PLAYLIST\n",
        "    print('Calculando itemsets de long %2i'%(num_iter))\n",
        "    #OBTENEMOS LO ITEMSET\n",
        "    itemset = []\n",
        "    val_item = []\n",
        "    for miniset in playlists:\n",
        "        for item in miniset:\n",
        "            item = str(item)\n",
        "            if(item in itemset):\n",
        "                val_item[itemset.index(item)]+=1\n",
        "            else:\n",
        "                itemset.append(item)\n",
        "                val_item.append(1)\n",
        "    #NORMALIZAMOS LOS VALORES DE 0 A 1 LOS VALORES ACUMULADOS\n",
        "    long_playlists = len(playlists)\n",
        "    val_item= [x/long_playlists for x in val_item]\n",
        "    #ELIMINAMOS TODOS LOS VALORES QUE NO PASEN EL UMBRAL \"min_support\"\n",
        "    valid_itemset,valid_values= LimpiarItemset(itemset,val_item,min_support)\n",
        "    #ORDENAMOS LO VALORES\n",
        "    temp_duplas = dict(zip(valid_itemset,valid_values)).items()\n",
        "    valid_itemset = []\n",
        "    valid_values = []\n",
        "    for dupla in sorted(temp_duplas):\n",
        "        valid_itemset.append(dupla[0])\n",
        "        valid_values.append(dupla[1])\n",
        "    #PROCEDEMOS A INICIAR UN CICLO PARA CALCULAR ITEMSETS DE MAYOR CARDINALIDAD\n",
        "    last_itemset = [[x] for x in valid_itemset]\n",
        "    print(\"└──Terminado || cant. elementos (%i)\"%(len(last_itemset)))\n",
        "    #COMPROBAMOS SI LS ULTIMA ITERACION TIENE ITEMS VALIDOS\n",
        "    while(True):\n",
        "        if(len(last_itemset)==0):\n",
        "            break\n",
        "        total_Itemsets.append(last_itemset)\n",
        "        total_valores.append(valid_values)\n",
        "        if(len(last_itemset)==1):\n",
        "            break    \n",
        "        num_iter+=1\n",
        "        print('Calculando itemsets de long %2i'%(num_iter))\n",
        "        Pos_Itemset = GenerarPosibleItemset(last_itemset)\n",
        "        Val_PosItems = ContarAparicionItemSet(Pos_Itemset,playlists)                 \n",
        "        #NORMALIZAMOS LOS VALORES DE 0 A 1 LOS VALORES ACUMULADOS\n",
        "        Val_PosItems= [x/long_playlists for x in Val_PosItems]\n",
        "        #ELIMINAMOS TODOS LOS VALORES QUE NO PASEN EL UMBRAL \"min_support\"\n",
        "        last_itemset, valid_values = LimpiarItemset(Pos_Itemset,Val_PosItems,min_support)\n",
        "        print(\"└──Terminado || cant. elementos (%i)\"%(len(last_itemset)))\n",
        "    return total_Itemsets,total_valores"
      ],
      "execution_count": 2,
      "outputs": []
    },
    {
      "cell_type": "markdown",
      "metadata": {
        "id": "9mKRixH21PQ-"
      },
      "source": [
        "#Modulo para obtener la asociaciones del data set"
      ]
    },
    {
      "cell_type": "markdown",
      "metadata": {
        "id": "SxLuzKuOSRfJ"
      },
      "source": [
        "#generate_association_rules\n",
        "\n",
        "La generación de reglas es una tarea común en la extracción de patrones frecuentes. Una regla de asociación es una expresión de implicación de la formaX→ Y, dónde X y Yson conjuntos de elementos separados "
      ]
    },
    {
      "cell_type": "markdown",
      "metadata": {
        "id": "6KImnz7OM3xR"
      },
      "source": [
        "frequent_itemsets:Itemset obtenidos de get_frequent_itemsets lista de lista de str\n",
        "\n",
        "\n",
        "confidence:confianza minima int\n",
        "\n",
        "lift:suntento minimo int"
      ]
    },
    {
      "cell_type": "code",
      "metadata": {
        "id": "bW7wKYp51R1G"
      },
      "source": [
        "def generate_association_rules(frequent_itemsets, confidence = 0, lift =0):\n",
        "    All_rules = []\n",
        "    All_lift = []\n",
        "    All_confidence = []\n",
        "    All_support = []\n",
        "    Long_regla_actual = 2\n",
        "    itemsets = frequent_itemsets[0]\n",
        "    itemsvalues = frequent_itemsets[1]\n",
        "    Xs = []\n",
        "    Ys = []\n",
        "    print('Calculas todas las posibles reglas')\n",
        "    #SE OBTENDRA PARTELAS REGLAS\n",
        "    while(Long_regla_actual<=len(itemsets)):\n",
        "        itemset_actual = itemsets[Long_regla_actual-1]\n",
        "        for item in itemset_actual:\n",
        "            xs,ys = ObtenerPosiblesReglas(item)\n",
        "            Xs+=xs\n",
        "            Ys+=ys\n",
        "        Long_regla_actual+=1\n",
        "    print('Limpieza de reglas repetidas')\n",
        "    #UNA VE TENIENDO TODAS LA REGLAS DE LA FORMA  X->Y ELIMINAMOS LAS REPETIDAS\n",
        "    Xs,Ys = LimpiarReglasRepetidas(Xs,Ys)\n",
        "    print('Calculando lift y confianza')\n",
        "    # SE REALIZA EL CALCULO DE lift Y confianza\n",
        "    for k in range(len(Xs)):\n",
        "        x = Xs[k]\n",
        "        y = Ys[k]\n",
        "        xuy = x+y\n",
        "        xuy.sort()\n",
        "        pos = itemsets[len(x)-1].index(x)\n",
        "        Px = itemsvalues[len(x)-1][pos]\n",
        "        pos = itemsets[len(y)-1].index(y)\n",
        "        Py = itemsvalues[len(y)-1][pos]\n",
        "        pos = itemsets[len(xuy)-1].index(xuy)\n",
        "        Pxuy = itemsvalues[len(xuy)-1][pos]\n",
        "        #Calculamos la confianza y el lift\n",
        "        confianza_act = Pxuy/Px\n",
        "        lift_act = Pxuy/Px/Py\n",
        "        #comprobamos si pasa el umbral\n",
        "        if(lift_act >= lift and confianza_act >= confidence):\n",
        "            All_rules.append([x,y])\n",
        "            All_confidence.append(confianza_act)\n",
        "            All_lift.append(lift_act)\n",
        "            All_support.append(Pxuy)\n",
        "    return  All_rules,All_confidence,All_lift,All_support"
      ],
      "execution_count": 3,
      "outputs": []
    },
    {
      "cell_type": "markdown",
      "metadata": {
        "id": "mfT81W37QSKX"
      },
      "source": [
        "#Modulo para Generar posibles  itemset\n",
        "\n"
      ]
    },
    {
      "cell_type": "code",
      "metadata": {
        "id": "c1kqmRkUNLJP"
      },
      "source": [
        "#GENERAMOS LOS POSIBLES ITEMSETS\n",
        "def GenerarPosibleItemset(Old_Itemset):\n",
        "    PosItemSet = []\n",
        "    #REALIZAMOS LA OPERACION A u B SOBRE LOS ITEMS SI EL ITEM SOLO TIENE 1 ELEMENYO MAS QUE SUS PADRES SE LE CONSIDERA COMO ITEMSET\n",
        "    for k in range(0,len(Old_Itemset)-1):\n",
        "        for j in range(k+1,len(Old_Itemset)):\n",
        "            Posible_Item = sorted(list(set(Old_Itemset[k]+Old_Itemset[j])))\n",
        "            if(len(Posible_Item)==len(Old_Itemset[0])+1 \n",
        "               and Posible_Item not in PosItemSet):\n",
        "                PosItemSet.append(Posible_Item)\n",
        "    return PosItemSet"
      ],
      "execution_count": 4,
      "outputs": []
    },
    {
      "cell_type": "markdown",
      "metadata": {
        "id": "hSxge2hAQe6d"
      },
      "source": [
        "#Modulo para  contar apariciones de Itemsets"
      ]
    },
    {
      "cell_type": "code",
      "metadata": {
        "id": "LDOSBqNjNPV8"
      },
      "source": [
        "#CONTAR APARICIONES DE ITEMSET\n",
        "def ContarAparicionItemSet(Pos_Itemset, Dataset):\n",
        "#CREAMOS UN CONTADOR\n",
        "    Contador_Tot = [0]*len(Pos_Itemset)\n",
        "    #INICIAMOS CON EL PROCESO DE CONTAR \n",
        "    for k in range(len(Pos_Itemset)):       \n",
        "        Item = Pos_Itemset[k]\n",
        "        #RECORREMOS EL DATA SET\n",
        "        for tupla in Dataset:\n",
        "          #REALIZAMOS LA OPERACION Item U Tupla\n",
        "            tupla = set(tupla)\n",
        "            temp = list(set(Item).union(tupla))\n",
        "            tupla = list(tupla)\n",
        "            if(len(temp)==len(tupla)):\n",
        "                Contador_Tot[k]+=1\n",
        "    return Contador_Tot"
      ],
      "execution_count": 5,
      "outputs": []
    },
    {
      "cell_type": "markdown",
      "metadata": {
        "id": "dWzUzlv5Ql2B"
      },
      "source": [
        "#modulo para limpiar Itemset "
      ]
    },
    {
      "cell_type": "code",
      "metadata": {
        "id": "RpsydIgQNQ-8"
      },
      "source": [
        "#FUNCION QUE SE ENCARGA DE ELIMINAR VALORES DE ITEMSET DONDE LA CONFIANZA NO SUPERE EL UMBRAL\n",
        "def LimpiarItemset(Itemset,Valores,umbral):\n",
        "    items_validos = []\n",
        "    for valor_act in Valores:\n",
        "        items_validos.append(valor_act>=umbral)\n",
        "    Itemset_limpio = list(it.compress(Itemset,items_validos))\n",
        "    Valores_limpio = list(it.compress(Valores,items_validos))\n",
        "    return Itemset_limpio,Valores_limpio"
      ],
      "execution_count": 6,
      "outputs": []
    },
    {
      "cell_type": "markdown",
      "metadata": {
        "id": "oJchTHgyQrnJ"
      },
      "source": [
        "#Modulo para Obtener las posibles reglas"
      ]
    },
    {
      "cell_type": "code",
      "metadata": {
        "id": "yNRtwZCsNUfk"
      },
      "source": [
        "#OBTENEMOS LA REGLAS POSIBLES\n",
        "def ObtenerPosiblesReglas(item):\n",
        "    combinaciones = list(it.permutations(item))\n",
        "    Xs_actuales = []\n",
        "    Ys_actuales = []\n",
        "    for tupla in combinaciones:\n",
        "        tupla = list(tupla)\n",
        "        for k in range(1,len(tupla)):\n",
        "            #Basandonos en que las reglas son X -> Y los separamos para en 2 variables\n",
        "            X, Y = tupla[:k],tupla[k:]\n",
        "            X.sort() \n",
        "            Y.sort()\n",
        "            Xs_actuales.append(X)\n",
        "            Ys_actuales.append(Y)\n",
        "    return Xs_actuales,Ys_actuales"
      ],
      "execution_count": 7,
      "outputs": []
    },
    {
      "cell_type": "markdown",
      "metadata": {
        "id": "bJR4FTawQwuZ"
      },
      "source": [
        "# Lipiamos las reglas repetidas "
      ]
    },
    {
      "cell_type": "code",
      "metadata": {
        "id": "LHCuB9PmCLcC"
      },
      "source": [
        "#ELIMINAMOS LAS REGLAS REPETIDAS\n",
        "def LimpiarReglasRepetidas(X,Y):\n",
        "    validos = [True]*len(X)\n",
        "    #SI EL VALOR ACTUAL ES VALIDO COMPROBAMOS SI TIENE UN REPETIDO\n",
        "    for k in range(len(X)-1):\n",
        "        if(validos[k]):\n",
        "            for j in range(k+1,len(X)):\n",
        "\n",
        "                if(validos[j] and \n",
        "                    X[k] == X[j] and\n",
        "                    Y[k] == Y[j]):\n",
        "                    validos[j]=False\n",
        "    #ELIMINAMOS LOS NO VALIDOS\n",
        "    X = list(it.compress(X,validos))\n",
        "    Y = list(it.compress(Y,validos))\n",
        "    return X,Y"
      ],
      "execution_count": 8,
      "outputs": []
    },
    {
      "cell_type": "markdown",
      "metadata": {
        "id": "GmMWn5_aQz9Y"
      },
      "source": [
        "# Mostrar las reglas despues que ya fueron limpiadas"
      ]
    },
    {
      "cell_type": "code",
      "metadata": {
        "id": "5XpBi6TpNX0M"
      },
      "source": [
        "def MostrarReglas(Xs,Ys):\n",
        "    for k in range(len(Xs)):\n",
        "        print(f'{Xs[k]} -> {Ys[k]}')"
      ],
      "execution_count": 9,
      "outputs": []
    },
    {
      "cell_type": "markdown",
      "metadata": {
        "id": "tw56QnkrQ6GR"
      },
      "source": [
        "#EJECUCION"
      ]
    },
    {
      "cell_type": "markdown",
      "metadata": {
        "id": "K5oBc2a8ADKi"
      },
      "source": [
        "Lectura de la base de datos .npy"
      ]
    },
    {
      "cell_type": "code",
      "metadata": {
        "id": "dUEbYYnhFuCP",
        "colab": {
          "base_uri": "https://localhost:8080/"
        },
        "outputId": "6725292c-a60a-4b69-d880-1622ae7e7f54"
      },
      "source": [
        "datos= np.load('spotify.npy',allow_pickle=True)\n",
        "X = datos.tolist()\n",
        "spotify_playlists = [X[k] for k in X]\n",
        "total_Itemsets,total_valores = get_frequent_itemsets(spotify_playlists, 0.02)"
      ],
      "execution_count": 10,
      "outputs": [
        {
          "output_type": "stream",
          "name": "stdout",
          "text": [
            "Calculando itemsets de long  1\n",
            "└──Terminado || cant. elementos (161)\n",
            "Calculando itemsets de long  2\n",
            "└──Terminado || cant. elementos (3)\n",
            "Calculando itemsets de long  3\n",
            "└──Terminado || cant. elementos (0)\n"
          ]
        }
      ]
    },
    {
      "cell_type": "code",
      "metadata": {
        "id": "TNb5cyf3zAQl",
        "colab": {
          "base_uri": "https://localhost:8080/"
        },
        "outputId": "3275ef77-1ca6-4691-999e-57c652d883a0"
      },
      "source": [
        "print(f'Longitud máxima encontrada: {len(total_Itemsets)}')\n",
        "# MOSTRAR ITEMSETS VALIDOS ENCONTRADOS\n",
        "for k in range(len(total_Itemsets)):\n",
        "    print('===== %3i ======='%(k+1))\n",
        "    for j in range(len(total_Itemsets[k])):\n",
        "        print('%s || %3.2f'%(total_Itemsets[k][j],total_valores[k][j]*100))"
      ],
      "execution_count": 11,
      "outputs": [
        {
          "output_type": "stream",
          "name": "stdout",
          "text": [
            "Longitud máxima encontrada: 2\n",
            "=====   1 =======\n",
            "['1-800-273-8255'] || 2.64\n",
            "['679 (feat. Remy Boyz)'] || 2.46\n",
            "['Again'] || 2.14\n",
            "[\"Ain't No Mountain High Enough\"] || 2.33\n",
            "['Alive'] || 2.33\n",
            "['All I Want'] || 2.34\n",
            "['All of Me'] || 2.41\n",
            "['Alone'] || 2.15\n",
            "['Alright'] || 2.81\n",
            "['Angel'] || 2.25\n",
            "['Antidote'] || 2.64\n",
            "['Bad and Boujee (feat. Lil Uzi Vert)'] || 3.53\n",
            "['Bank Account'] || 2.31\n",
            "['Beautiful'] || 2.02\n",
            "['Believe'] || 2.20\n",
            "['Believer'] || 2.54\n",
            "['Black Beatles'] || 2.96\n",
            "['Blessings'] || 2.84\n",
            "['Body Like A Back Road'] || 2.73\n",
            "['Bohemian Rhapsody - Remastered 2011'] || 2.43\n",
            "['Bounce Back'] || 3.00\n",
            "['Broccoli (feat. Lil Yachty)'] || 4.02\n",
            "['CAN\\'T STOP THE FEELING! (Original Song from DreamWorks Animation\\'s \"TROLLS\")'] || 2.09\n",
            "[\"Can't Feel My Face\"] || 2.26\n",
            "['Caroline'] || 3.95\n",
            "['Cheap Thrills'] || 2.14\n",
            "['Chicken Fried'] || 2.18\n",
            "['Chill Bill'] || 2.30\n",
            "['Closer'] || 7.61\n",
            "['Cold Water (feat. Justin Bieber & MØ)'] || 2.41\n",
            "['Come On Eileen'] || 2.07\n",
            "['Congratulations'] || 4.10\n",
            "['Controlla'] || 2.12\n",
            "['Crazy'] || 2.13\n",
            "['DNA.'] || 2.32\n",
            "['Deja Vu'] || 2.62\n",
            "['Despacito - Remix'] || 2.88\n",
            "['Die A Happy Man'] || 2.10\n",
            "[\"Don't\"] || 3.11\n",
            "[\"Don't Let Me Down\"] || 3.22\n",
            "[\"Don't Stop Believin'\"] || 2.71\n",
            "['Down'] || 2.96\n",
            "['Drive'] || 2.42\n",
            "[\"F**kin' Problems\"] || 2.29\n",
            "['Fake Love'] || 3.07\n",
            "['Famous'] || 2.12\n",
            "['Fast Car'] || 2.34\n",
            "['Forever'] || 3.37\n",
            "['Gold'] || 3.86\n",
            "['Gold Digger'] || 2.91\n",
            "['Gravity'] || 2.11\n",
            "['HUMBLE.'] || 4.70\n",
            "['Hallelujah'] || 2.83\n",
            "['Halo'] || 2.00\n",
            "['Heathens'] || 2.28\n",
            "['Hello'] || 3.05\n",
            "['Hey Ya! - Radio Mix / Club Mix'] || 2.12\n",
            "['Hold On'] || 2.35\n",
            "['Home'] || 4.89\n",
            "['Hotline Bling'] || 2.77\n",
            "['Hurricane'] || 2.90\n",
            "[\"I Don't Fuck With You\"] || 2.41\n",
            "['I Took A Pill In Ibiza - Seeb Remix'] || 2.25\n",
            "[\"I'm Yours\"] || 2.48\n",
            "[\"I'm the One\"] || 3.21\n",
            "['Ignition - Remix'] || 3.19\n",
            "['Intro'] || 2.30\n",
            "[\"It Wasn't Me\"] || 2.21\n",
            "['Jumpman'] || 2.90\n",
            "['Jungle'] || 2.25\n",
            "['Kids'] || 2.00\n",
            "['Lean On (feat. MØ & DJ Snake)'] || 2.76\n",
            "['Let Her Go'] || 2.34\n",
            "['Let It Go'] || 2.81\n",
            "['Let Me Love You'] || 4.03\n",
            "['Location'] || 3.26\n",
            "['Love Yourself'] || 2.22\n",
            "['Low Life'] || 2.41\n",
            "['Magnolia'] || 2.00\n",
            "['Mask Off'] || 3.16\n",
            "['Me, Myself & I'] || 2.47\n",
            "['Mercy'] || 3.18\n",
            "['Middle'] || 2.31\n",
            "['Monster'] || 2.32\n",
            "['Mr. Brightside'] || 2.50\n",
            "['My Girl'] || 2.95\n",
            "['My House'] || 2.10\n",
            "['Needed Me'] || 2.42\n",
            "['Never Be Like You'] || 2.32\n",
            "['Ni**as In Paris'] || 2.84\n",
            "['No Diggity'] || 2.08\n",
            "['No Problem (feat. Lil Wayne & 2 Chainz)'] || 3.23\n",
            "['No Role Modelz'] || 3.12\n",
            "['One Dance'] || 4.33\n",
            "['Panda'] || 3.20\n",
            "['Paradise'] || 2.26\n",
            "['Paris'] || 2.67\n",
            "['Party In The U.S.A.'] || 2.17\n",
            "['Passionfruit'] || 2.57\n",
            "['Perfect'] || 2.11\n",
            "['Photograph'] || 2.19\n",
            "['Radioactive'] || 2.46\n",
            "['Redbone'] || 2.85\n",
            "['Ride'] || 4.29\n",
            "['Riptide'] || 3.39\n",
            "['Roses'] || 4.36\n",
            "['Say It'] || 2.86\n",
            "['Say My Name'] || 2.68\n",
            "[\"Say You Won't Let Go\"] || 2.07\n",
            "['Selfish'] || 2.71\n",
            "['September'] || 2.61\n",
            "['Shape of You'] || 3.21\n",
            "['Shut Up and Dance'] || 2.29\n",
            "['Silent Night'] || 2.14\n",
            "['Skinny Love'] || 2.73\n",
            "['Slide'] || 3.23\n",
            "['Slippery (feat. Gucci Mane)'] || 2.41\n",
            "['Sober'] || 2.50\n",
            "['Something Just Like This'] || 2.22\n",
            "['Sorry'] || 3.30\n",
            "['Starboy'] || 2.85\n",
            "['Stay'] || 3.55\n",
            "['Stay (with Alessia Cara)'] || 2.18\n",
            "['Stay With Me'] || 2.05\n",
            "['Stressed Out'] || 2.28\n",
            "['Stronger'] || 2.63\n",
            "['Sugar'] || 2.04\n",
            "['Summer'] || 2.07\n",
            "['Swang'] || 2.23\n",
            "[\"Sweet Child O' Mine\"] || 2.13\n",
            "['Sweet Home Alabama'] || 2.15\n",
            "['T-Shirt'] || 3.55\n",
            "[\"That's What I Like\"] || 2.64\n",
            "['The Hills'] || 2.80\n",
            "['Thinking Out Loud'] || 2.38\n",
            "['This Is What You Came For'] || 2.15\n",
            "['Too Good'] || 2.04\n",
            "['Trap Queen'] || 2.98\n",
            "['Trouble'] || 2.19\n",
            "['Tunnel Vision'] || 2.52\n",
            "['Unforgettable'] || 3.31\n",
            "['Uptown Funk'] || 2.33\n",
            "['V. 3005'] || 2.22\n",
            "['Wagon Wheel'] || 2.47\n",
            "['Wake Up'] || 2.15\n",
            "['Waves'] || 2.48\n",
            "['What Do You Mean?'] || 2.20\n",
            "['Where Are Ü Now (with Justin Bieber)'] || 2.01\n",
            "['White Iverson'] || 3.06\n",
            "['With You'] || 2.30\n",
            "['Work'] || 2.71\n",
            "['Work from Home'] || 2.22\n",
            "['X (feat. Future)'] || 2.05\n",
            "['XO TOUR Llif3'] || 3.30\n",
            "['Yeah!'] || 2.44\n",
            "['You'] || 2.48\n",
            "['Young Dumb & Broke'] || 2.21\n",
            "['goosebumps'] || 3.08\n",
            "[\"i hate u, i love u (feat. olivia o'brien)\"] || 2.07\n",
            "['iSpy (feat. Lil Yachty)'] || 3.39\n",
            "['rockstar'] || 2.34\n",
            "=====   2 =======\n",
            "['Congratulations', 'HUMBLE.'] || 2.14\n",
            "['HUMBLE.', 'Mask Off'] || 2.04\n",
            "['HUMBLE.', 'XO TOUR Llif3'] || 2.04\n"
          ]
        }
      ]
    },
    {
      "cell_type": "code",
      "metadata": {
        "id": "6SsNMM98zC4l",
        "colab": {
          "base_uri": "https://localhost:8080/"
        },
        "outputId": "2ad71b01-fd8f-465b-86f2-4fbffb8f43a4"
      },
      "source": [
        "Reglas,Confianza,Lift,Soporte = generate_association_rules([total_Itemsets,total_valores],0.28,2.65)"
      ],
      "execution_count": 14,
      "outputs": [
        {
          "output_type": "stream",
          "name": "stdout",
          "text": [
            "Calculas todas las posibles reglas\n",
            "Limpieza de reglas repetidas\n",
            "Calculando lift y confianza\n"
          ]
        }
      ]
    },
    {
      "cell_type": "code",
      "metadata": {
        "id": "Cu0ysjVyzE-f",
        "colab": {
          "base_uri": "https://localhost:8080/"
        },
        "outputId": "fc46ad1d-de08-4bcb-f50c-19160c1959ee"
      },
      "source": [
        "for k in range(len(Reglas)):\n",
        "    print(f\"{k+1} ======\")\n",
        "    print(f'{Reglas[k][0]} -> {Reglas[k][1]}')\n",
        "    print(f'soporte: {Soporte[k]*100}')\n",
        "    print(f'confianza: {Confianza[k]*100}')\n",
        "    print(f'lift: {Lift[k]}')"
      ],
      "execution_count": 15,
      "outputs": [
        {
          "output_type": "stream",
          "name": "stdout",
          "text": [
            "1 ======\n",
            "['Congratulations'] -> ['HUMBLE.']\n",
            "soporte: 2.1399999999999997\n",
            "confianza: 52.195121951219505\n",
            "lift: 11.10534509600415\n",
            "2 ======\n",
            "['HUMBLE.'] -> ['Congratulations']\n",
            "soporte: 2.1399999999999997\n",
            "confianza: 45.53191489361702\n",
            "lift: 11.10534509600415\n",
            "3 ======\n",
            "['HUMBLE.'] -> ['Mask Off']\n",
            "soporte: 2.04\n",
            "confianza: 43.40425531914894\n",
            "lift: 13.735523835173714\n",
            "4 ======\n",
            "['Mask Off'] -> ['HUMBLE.']\n",
            "soporte: 2.04\n",
            "confianza: 64.55696202531645\n",
            "lift: 13.735523835173714\n",
            "5 ======\n",
            "['HUMBLE.'] -> ['XO TOUR Llif3']\n",
            "soporte: 2.04\n",
            "confianza: 43.40425531914894\n",
            "lift: 13.152804642166345\n",
            "6 ======\n",
            "['XO TOUR Llif3'] -> ['HUMBLE.']\n",
            "soporte: 2.04\n",
            "confianza: 61.81818181818181\n",
            "lift: 13.152804642166345\n"
          ]
        }
      ]
    },
    {
      "cell_type": "markdown",
      "metadata": {
        "id": "FTMSS6FPXvMM"
      },
      "source": [
        "#analizando las reglas se obtuvo las siguientes  canciones  \n",
        "\n",
        "* Congratulations\n",
        "* HUMBLE\n",
        "* Mask Off\n",
        "* XO TOUR Llif3"
      ]
    },
    {
      "cell_type": "markdown",
      "metadata": {
        "id": "zRW8AsHET3Ak"
      },
      "source": [
        "# frente a los datos obtenidos podemos apreciar que:"
      ]
    },
    {
      "cell_type": "markdown",
      "metadata": {
        "id": "69ZGfzIZT1xF"
      },
      "source": [
        "+ Observando las reglas podemos ver que las 4 canciones  son del mismo genero.\n",
        "+ observando se puede determinar que 3 canciones son del 2017 y 1 es del 2016\n",
        "+ Todos los artistas son hombres\n",
        "+ La artista de la cancion HUMBLEE colaboro con todos los demas artistas\n"
      ]
    }
  ]
}