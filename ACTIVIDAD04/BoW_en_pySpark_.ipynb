{
  "cells": [
    {
      "cell_type": "markdown",
      "metadata": {
        "id": "VM4wuNXeKn1F"
      },
      "source": [
        "#universidad nacional de san antonio abad del cusco\n",
        "\n",
        "\n",
        "*   Nombre: JHON EDWIN TACUSI LAROTA\n",
        "*   Codigo: 150408\n",
        "*   Segundo examen parcial de mineria de datos\n",
        "\n"
      ]
    },
    {
      "cell_type": "code",
      "execution_count": 2,
      "metadata": {
        "colab": {
          "base_uri": "https://localhost:8080/"
        },
        "id": "5N3KrT1YVipA",
        "outputId": "776cf446-3b8b-48f3-e6ad-322d4d290cc6"
      },
      "outputs": [
        {
          "output_type": "stream",
          "name": "stdout",
          "text": [
            "Collecting pyspark\n",
            "  Downloading pyspark-3.2.0.tar.gz (281.3 MB)\n",
            "\u001b[K     |████████████████████████████████| 281.3 MB 37 kB/s \n",
            "\u001b[?25hCollecting py4j==0.10.9.2\n",
            "  Downloading py4j-0.10.9.2-py2.py3-none-any.whl (198 kB)\n",
            "\u001b[K     |████████████████████████████████| 198 kB 57.2 MB/s \n",
            "\u001b[?25hBuilding wheels for collected packages: pyspark\n",
            "  Building wheel for pyspark (setup.py) ... \u001b[?25l\u001b[?25hdone\n",
            "  Created wheel for pyspark: filename=pyspark-3.2.0-py2.py3-none-any.whl size=281805912 sha256=084c7bc4ea27712f76ad5bacc385f6ec5abe45c8d041fb46e10830f9fd84be66\n",
            "  Stored in directory: /root/.cache/pip/wheels/0b/de/d2/9be5d59d7331c6c2a7c1b6d1a4f463ce107332b1ecd4e80718\n",
            "Successfully built pyspark\n",
            "Installing collected packages: py4j, pyspark\n",
            "Successfully installed py4j-0.10.9.2 pyspark-3.2.0\n",
            "Collecting pyspark==3.0.1\n",
            "  Downloading pyspark-3.0.1.tar.gz (204.2 MB)\n",
            "\u001b[K     |████████████████████████████████| 204.2 MB 33 kB/s \n",
            "\u001b[?25hCollecting py4j==0.10.9\n",
            "  Downloading py4j-0.10.9-py2.py3-none-any.whl (198 kB)\n",
            "\u001b[K     |████████████████████████████████| 198 kB 57.5 MB/s \n",
            "\u001b[?25hBuilding wheels for collected packages: pyspark\n",
            "  Building wheel for pyspark (setup.py) ... \u001b[?25l\u001b[?25hdone\n",
            "  Created wheel for pyspark: filename=pyspark-3.0.1-py2.py3-none-any.whl size=204612246 sha256=81acafe8e2b380fee048cda1196af7873f6551cdad0638a50ea83c186f9ccaa7\n",
            "  Stored in directory: /root/.cache/pip/wheels/5e/34/fa/b37b5cef503fc5148b478b2495043ba61b079120b7ff379f9b\n",
            "Successfully built pyspark\n",
            "Installing collected packages: py4j, pyspark\n",
            "  Attempting uninstall: py4j\n",
            "    Found existing installation: py4j 0.10.9.2\n",
            "    Uninstalling py4j-0.10.9.2:\n",
            "      Successfully uninstalled py4j-0.10.9.2\n",
            "  Attempting uninstall: pyspark\n",
            "    Found existing installation: pyspark 3.2.0\n",
            "    Uninstalling pyspark-3.2.0:\n",
            "      Successfully uninstalled pyspark-3.2.0\n",
            "Successfully installed py4j-0.10.9 pyspark-3.0.1\n"
          ]
        }
      ],
      "source": [
        "!pip install pyspark\n",
        "!pip install pyspark==3.0.1 py4j==0.10.9"
      ]
    },
    {
      "cell_type": "markdown",
      "metadata": {
        "id": "iPHonedkHw-p"
      },
      "source": [
        "\n",
        "\n",
        "#EJERCICIO Implementar en un notebook BoW pyspark usando mapreduce el algoritmo TF-IDF"
      ]
    },
    {
      "cell_type": "code",
      "execution_count": 3,
      "metadata": {
        "id": "5cqDIwNyWXNn"
      },
      "outputs": [],
      "source": [
        "import math\n",
        "from pyspark.sql.functions import *\n",
        "from pyspark.sql import SparkSession\n",
        "from pyspark import SparkContext, SparkConf\n",
        "sc =SparkContext.getOrCreate()\n",
        "import os\n",
        "import re\n",
        "import nltk.corpus\n",
        "from nltk import corpus\n"
      ]
    },
    {
      "cell_type": "markdown",
      "metadata": {
        "id": "9VNfoK2TPcWY"
      },
      "source": [
        "#Frecuencia de término de cómputo (TF)\n",
        "La frecuencia del término es el número de veces que aparece una palabra en particular en un documento. Primero, creemos un conjunto de datos de juguetes de la siguiente manera:"
      ]
    },
    {
      "cell_type": "markdown",
      "metadata": {
        "id": "PwxdCSLvG9XD"
      },
      "source": [
        "\n",
        "\n",
        "*   primeramente usaremos un ejemplo para la implementacion de tf y idf\n",
        "*   realizamos la tokenizacion\n",
        "\n"
      ]
    },
    {
      "cell_type": "code",
      "execution_count": 4,
      "metadata": {
        "colab": {
          "base_uri": "https://localhost:8080/"
        },
        "id": "uM4QscIlGraa",
        "outputId": "bc811253-33bb-45ca-9a66-a6282278c608"
      },
      "outputs": [
        {
          "output_type": "execute_result",
          "data": {
            "text/plain": [
              "[((1, 'la'), 1),\n",
              " ((1, 'escuela'), 1),\n",
              " ((1, 'de'), 1),\n",
              " ((1, 'informatica'), 1),\n",
              " ((2, 'yo'), 1),\n",
              " ((2, 'mi'), 1),\n",
              " ((3, 'la'), 2),\n",
              " ((3, 'facultad'), 1),\n",
              " ((3, 'de'), 1),\n",
              " ((2, 'amo'), 1),\n",
              " ((2, 'a'), 1),\n",
              " ((2, 'facultad'), 1),\n",
              " ((3, 'mejor'), 1),\n",
              " ((3, 'universidad'), 1)]"
            ]
          },
          "metadata": {},
          "execution_count": 4
        }
      ],
      "source": [
        "\n",
        "# Como prueba de ejemplo utilizamos un data con 3 documentos\n",
        "data=[(1,'la escuela de informatica'),(2,\"yo amo a mi facultad\"),(3,\"la mejor facultad de la universidad\")]\n",
        "lines=sc.parallelize(data)\n",
        "lines.collect()\n",
        "map1=lines.flatMap(lambda x: [((x[0],i),1) for i in x[1].split()])\n",
        "map1.collect()\n",
        "reduce=map1.reduceByKey(lambda x,y:x+y)\n",
        "reduce.collect()"
      ]
    },
    {
      "cell_type": "markdown",
      "metadata": {
        "id": "6dT44WYmHJdp"
      },
      "source": [
        "\n",
        "\n",
        "*   implementamos el codigo para obtener el TF de nuestro ejemplo\n",
        "*   mostramos el resultado obtenido\n",
        "\n"
      ]
    },
    {
      "cell_type": "code",
      "execution_count": 5,
      "metadata": {
        "colab": {
          "base_uri": "https://localhost:8080/"
        },
        "id": "nT3AZTz1GuMR",
        "outputId": "2e592a8f-344a-49bf-f1f9-95a396f297f3"
      },
      "outputs": [
        {
          "output_type": "execute_result",
          "data": {
            "text/plain": [
              "[('yo', 1),\n",
              " ('mi', 1),\n",
              " ('mejor', 1),\n",
              " ('universidad', 1),\n",
              " ('la', 2),\n",
              " ('escuela', 1),\n",
              " ('de', 2),\n",
              " ('informatica', 1),\n",
              " ('facultad', 2),\n",
              " ('amo', 1),\n",
              " ('a', 1)]"
            ]
          },
          "metadata": {},
          "execution_count": 5
        }
      ],
      "source": [
        "\n",
        "#=================================================================\n",
        "# Algoritmo termino de frecuencia (TF)\n",
        "tf=reduce.map(lambda x: (x[0][1],(x[0][0],x[1])))\n",
        "tf.collect()\n",
        "\n",
        "map3=reduce.map(lambda x: (x[0][1],(x[0][0],x[1],1)))\n",
        "map3.collect()\n",
        "\n",
        "map4=map3.map(lambda x:(x[0],x[1][2]))\n",
        "map4.collect()\n",
        "\n",
        "reduce2=map4.reduceByKey(lambda x,y:x+y)\n",
        "reduce2.collect()\n"
      ]
    },
    {
      "cell_type": "markdown",
      "metadata": {
        "id": "1ATTU0gvHWPY"
      },
      "source": [
        "\n",
        "\n",
        "*   implementamos el codigo oara obtener el IDF de nuestro ejemplo\n",
        "*   mostramos el resultados obtenido\n",
        "\n"
      ]
    },
    {
      "cell_type": "code",
      "execution_count": 11,
      "metadata": {
        "colab": {
          "base_uri": "https://localhost:8080/"
        },
        "id": "OVCCGn2YGyw5",
        "outputId": "25b4813b-f9f4-45c9-b5c6-106b68adeaa1"
      },
      "outputs": [
        {
          "output_type": "execute_result",
          "data": {
            "text/plain": [
              "[('yo', ((2, 1), 0.47712125471966244)),\n",
              " ('mejor', ((3, 1), 0.47712125471966244)),\n",
              " ('universidad', ((3, 1), 0.47712125471966244)),\n",
              " ('la', ((1, 1), 0.17609125905568124)),\n",
              " ('la', ((3, 2), 0.17609125905568124)),\n",
              " ('escuela', ((1, 1), 0.47712125471966244)),\n",
              " ('informatica', ((1, 1), 0.47712125471966244)),\n",
              " ('a', ((2, 1), 0.47712125471966244)),\n",
              " ('mi', ((2, 1), 0.47712125471966244)),\n",
              " ('de', ((1, 1), 0.17609125905568124)),\n",
              " ('de', ((3, 1), 0.17609125905568124)),\n",
              " ('facultad', ((3, 1), 0.17609125905568124)),\n",
              " ('facultad', ((2, 1), 0.17609125905568124)),\n",
              " ('amo', ((2, 1), 0.47712125471966244))]"
            ]
          },
          "metadata": {},
          "execution_count": 11
        }
      ],
      "source": [
        "\n",
        "\n",
        "#=================================================================\n",
        "# Algoritmo termino de frecuencia (IDF)\n",
        "idf=reduce2.map(lambda x: (x[0],math.log10(len(data)/x[1])))\n",
        "idf.collect()\n",
        "\n",
        "rdd=tf.join(idf)\n",
        "rdd.collect()\n"
      ]
    },
    {
      "cell_type": "markdown",
      "metadata": {
        "id": "Hpx82XO4HhiQ"
      },
      "source": [
        "\n",
        "\n",
        "*   implementamo el codigo para TF-IDF\n",
        "*   Mostramos en una tabla los resultados obtenidos\n",
        "\n"
      ]
    },
    {
      "cell_type": "code",
      "execution_count": 12,
      "metadata": {
        "colab": {
          "base_uri": "https://localhost:8080/"
        },
        "id": "mONbRKRQDQkT",
        "outputId": "596cf104-dfa6-47d1-c0c8-7c3b50e40d19"
      },
      "outputs": [
        {
          "output_type": "execute_result",
          "data": {
            "text/plain": [
              "[(1, ('la', 1, 0.17609125905568124, 0.17609125905568124)),\n",
              " (1, ('escuela', 1, 0.47712125471966244, 0.47712125471966244)),\n",
              " (1, ('informatica', 1, 0.47712125471966244, 0.47712125471966244)),\n",
              " (1, ('de', 1, 0.17609125905568124, 0.17609125905568124)),\n",
              " (2, ('yo', 1, 0.47712125471966244, 0.47712125471966244)),\n",
              " (2, ('a', 1, 0.47712125471966244, 0.47712125471966244)),\n",
              " (2, ('mi', 1, 0.47712125471966244, 0.47712125471966244)),\n",
              " (2, ('facultad', 1, 0.17609125905568124, 0.17609125905568124)),\n",
              " (2, ('amo', 1, 0.47712125471966244, 0.47712125471966244)),\n",
              " (3, ('mejor', 1, 0.47712125471966244, 0.47712125471966244)),\n",
              " (3, ('universidad', 1, 0.47712125471966244, 0.47712125471966244)),\n",
              " (3, ('la', 2, 0.17609125905568124, 0.3521825181113625)),\n",
              " (3, ('de', 1, 0.17609125905568124, 0.17609125905568124)),\n",
              " (3, ('facultad', 1, 0.17609125905568124, 0.17609125905568124))]"
            ]
          },
          "metadata": {},
          "execution_count": 12
        }
      ],
      "source": [
        "\n",
        "#=================================================================\n",
        "# Algoritmo termino de frecuencia (TF-IDF)\n",
        "rdd=rdd.map(lambda x: (x[1][0][0],(x[0],x[1][0][1],x[1][1],x[1][0][1]*x[1][1]))).sortByKey()\n",
        "rdd.collect()\n",
        "# se muestra el ID del documento, token , TF, IDF y TF-IDF\n"
      ]
    },
    {
      "cell_type": "code",
      "source": [
        "spark = SparkSession(sc)\n",
        "rdd=rdd.map(lambda x: (x[0],x[1][0],x[1][1],x[1][2],x[1][3]))\n",
        "hasattr(rdd, \"toDF\")\n",
        "rdd.toDF([\"ID del Documento\",\"Token\",\"TF\",\"IDF\",\"TF-IDF\"]).show()"
      ],
      "metadata": {
        "colab": {
          "base_uri": "https://localhost:8080/"
        },
        "id": "wWChEcpAqeKe",
        "outputId": "c4690048-0be2-4790-9582-96be4f10ace5"
      },
      "execution_count": 13,
      "outputs": [
        {
          "output_type": "stream",
          "name": "stdout",
          "text": [
            "+----------------+-----------+---+-------------------+-------------------+\n",
            "|ID del Documento|      Token| TF|                IDF|             TF-IDF|\n",
            "+----------------+-----------+---+-------------------+-------------------+\n",
            "|               1|         la|  1|0.17609125905568124|0.17609125905568124|\n",
            "|               1|    escuela|  1|0.47712125471966244|0.47712125471966244|\n",
            "|               1|informatica|  1|0.47712125471966244|0.47712125471966244|\n",
            "|               1|         de|  1|0.17609125905568124|0.17609125905568124|\n",
            "|               2|         yo|  1|0.47712125471966244|0.47712125471966244|\n",
            "|               2|          a|  1|0.47712125471966244|0.47712125471966244|\n",
            "|               2|         mi|  1|0.47712125471966244|0.47712125471966244|\n",
            "|               2|   facultad|  1|0.17609125905568124|0.17609125905568124|\n",
            "|               2|        amo|  1|0.47712125471966244|0.47712125471966244|\n",
            "|               3|      mejor|  1|0.47712125471966244|0.47712125471966244|\n",
            "|               3|universidad|  1|0.47712125471966244|0.47712125471966244|\n",
            "|               3|         la|  2|0.17609125905568124| 0.3521825181113625|\n",
            "|               3|         de|  1|0.17609125905568124|0.17609125905568124|\n",
            "|               3|   facultad|  1|0.17609125905568124|0.17609125905568124|\n",
            "+----------------+-----------+---+-------------------+-------------------+\n",
            "\n"
          ]
        }
      ]
    }
  ],
  "metadata": {
    "colab": {
      "collapsed_sections": [],
      "name": "BoW en pySpark .ipynb",
      "provenance": []
    },
    "kernelspec": {
      "display_name": "Python 3",
      "name": "python3"
    },
    "language_info": {
      "name": "python"
    }
  },
  "nbformat": 4,
  "nbformat_minor": 0
}